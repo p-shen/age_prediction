{
 "cells": [
  {
   "cell_type": "code",
   "execution_count": 3,
   "metadata": {},
   "outputs": [
    {
     "name": "stderr",
     "output_type": "stream",
     "text": [
      "── Attaching packages ─────────────────────────────────────── tidyverse 1.2.1 ──\n",
      "✔ ggplot2 2.2.1     ✔ purrr   0.2.4\n",
      "✔ tibble  1.4.2     ✔ dplyr   0.7.4\n",
      "✔ tidyr   0.8.0     ✔ stringr 1.3.0\n",
      "✔ readr   1.1.1     ✔ forcats 0.3.0\n",
      "── Conflicts ────────────────────────────────────────── tidyverse_conflicts() ──\n",
      "✖ dplyr::filter() masks stats::filter()\n",
      "✖ dplyr::lag()    masks stats::lag()\n",
      "Loading required package: Matrix\n",
      "\n",
      "Attaching package: ‘Matrix’\n",
      "\n",
      "The following object is masked from ‘package:tidyr’:\n",
      "\n",
      "    expand\n",
      "\n",
      "Loading required package: foreach\n",
      "\n",
      "Attaching package: ‘foreach’\n",
      "\n",
      "The following objects are masked from ‘package:purrr’:\n",
      "\n",
      "    accumulate, when\n",
      "\n",
      "Loaded glmnet 2.0-13\n",
      "\n"
     ]
    }
   ],
   "source": [
    "library(tidyverse)\n",
    "library(glmnet)"
   ]
  },
  {
   "cell_type": "code",
   "execution_count": 12,
   "metadata": {},
   "outputs": [],
   "source": [
    "load(file=\"data/GSE40279_r2.Rdata\")\n",
    "load(file=\"data/GSE41169_r2.Rdata\")"
   ]
  },
  {
   "cell_type": "code",
   "execution_count": 52,
   "metadata": {},
   "outputs": [],
   "source": [
    "# Age is stored in `characteristics_ch1` for training and `characteristics_ch1.6` for test in the metadata dataframes\n",
    "\n",
    "# parse the strings and extract the age information\n",
    "train.age  <- sapply(as.character(gse40279.meta$characteristics_ch1),\n",
    "                     function(ch) as.numeric(unlist(strsplit(ch, ' '))[3]))\n",
    "test.age  <- sapply(as.character(gse41169.meta$characteristics_ch1.6),\n",
    "                     function(ch) as.numeric(unlist(strsplit(ch, ' '))[2]))\n",
    "\n",
    "# remove names\n",
    "names(train.age)  <- NULL\n",
    "names(test.age)  <- NULL"
   ]
  },
  {
   "cell_type": "code",
   "execution_count": 54,
   "metadata": {},
   "outputs": [],
   "source": [
    "# find common probes\n",
    "train.probes  <- rownames(gse40279.data)\n",
    "test.probes  <- rownames(gse41169.data)\n",
    "common.probes  <- intersect(rownames(gse41169.data), rownames(gse40279.data))\n",
    "\n",
    "# only select the common probes in training and test datasets\n",
    "train.common  <- gse40279.data[common.probes,]\n",
    "test.common  <- gse41169.data[common.probes,]"
   ]
  },
  {
   "cell_type": "code",
   "execution_count": 91,
   "metadata": {},
   "outputs": [
    {
     "data": {
      "text/html": [
       "118271"
      ],
      "text/latex": [
       "118271"
      ],
      "text/markdown": [
       "118271"
      ],
      "text/plain": [
       "[1] 118271"
      ]
     },
     "metadata": {},
     "output_type": "display_data"
    }
   ],
   "source": [
    "# number of common probes\n",
    "length(common.probes)"
   ]
  },
  {
   "cell_type": "code",
   "execution_count": 49,
   "metadata": {},
   "outputs": [
    {
     "data": {
      "text/plain": [
       "   Min. 1st Qu.  Median    Mean 3rd Qu.    Max. \n",
       "  19.00   54.00   65.00   64.04   75.00  101.00 "
      ]
     },
     "metadata": {},
     "output_type": "display_data"
    },
    {
     "data": {
      "text/html": [
       "64.0350609756098"
      ],
      "text/latex": [
       "64.0350609756098"
      ],
      "text/markdown": [
       "64.0350609756098"
      ],
      "text/plain": [
       "[1] 64.03506"
      ]
     },
     "metadata": {},
     "output_type": "display_data"
    },
    {
     "data": {
      "text/html": [
       "14.7366808073477"
      ],
      "text/latex": [
       "14.7366808073477"
      ],
      "text/markdown": [
       "14.7366808073477"
      ],
      "text/plain": [
       "[1] 14.73668"
      ]
     },
     "metadata": {},
     "output_type": "display_data"
    },
    {
     "data": {
      "text/html": [
       "656"
      ],
      "text/latex": [
       "656"
      ],
      "text/markdown": [
       "656"
      ],
      "text/plain": [
       "[1] 656"
      ]
     },
     "metadata": {},
     "output_type": "display_data"
    }
   ],
   "source": [
    "# summarize the ages in the training dataset\n",
    "summary(train.age)\n",
    "mean(train.age)\n",
    "sd(train.age)\n",
    "length(train.age)"
   ]
  },
  {
   "cell_type": "code",
   "execution_count": 50,
   "metadata": {},
   "outputs": [
    {
     "data": {
      "text/plain": [
       "   Min. 1st Qu.  Median    Mean 3rd Qu.    Max. \n",
       "  18.00   24.50   29.00   31.57   36.00   65.00 "
      ]
     },
     "metadata": {},
     "output_type": "display_data"
    },
    {
     "data": {
      "text/html": [
       "31.5684210526316"
      ],
      "text/latex": [
       "31.5684210526316"
      ],
      "text/markdown": [
       "31.5684210526316"
      ],
      "text/plain": [
       "[1] 31.56842"
      ]
     },
     "metadata": {},
     "output_type": "display_data"
    },
    {
     "data": {
      "text/html": [
       "10.282863902318"
      ],
      "text/latex": [
       "10.282863902318"
      ],
      "text/markdown": [
       "10.282863902318"
      ],
      "text/plain": [
       "[1] 10.28286"
      ]
     },
     "metadata": {},
     "output_type": "display_data"
    },
    {
     "data": {
      "text/html": [
       "95"
      ],
      "text/latex": [
       "95"
      ],
      "text/markdown": [
       "95"
      ],
      "text/plain": [
       "[1] 95"
      ]
     },
     "metadata": {},
     "output_type": "display_data"
    }
   ],
   "source": [
    "# summarize the ages in the test dataset\n",
    "summary(test.age)\n",
    "mean(test.age)\n",
    "sd(test.age)\n",
    "length(test.age)"
   ]
  },
  {
   "cell_type": "code",
   "execution_count": 72,
   "metadata": {},
   "outputs": [],
   "source": [
    "# inpute missing values based on means\n",
    "imputeData  <- function(probeData) {\n",
    "    probeData[is.na(probeData)]  <- mean(probeData, na.rm=T)\n",
    "    return(probeData)\n",
    "}"
   ]
  },
  {
   "cell_type": "code",
   "execution_count": 90,
   "metadata": {},
   "outputs": [],
   "source": [
    "train.common.imputed  <- t(apply(train.common, 1, imputeData))\n",
    "test.common.imputed  <- t(apply(test.common, 1, imputeData))"
   ]
  },
  {
   "cell_type": "code",
   "execution_count": 27,
   "metadata": {},
   "outputs": [
    {
     "name": "stdout",
     "output_type": "stream",
     "text": [
      "[1] 0.6413943\n"
     ]
    }
   ],
   "source": [
    "# Train glmnet for prediction\n",
    "glmnet.Training.CV  <-  cv.glmnet(t(train.common.imputed), train.age, nfolds=10,alpha=0.5,family=\"gaussian\")\n",
    "\n",
    "# The definition of the lambda parameter:\n",
    "lambda.glmnet.Training  <-  glmnet.Training.CV$lambda.min \n",
    "print(lambda.glmnet.Training)"
   ]
  },
  {
   "cell_type": "code",
   "execution_count": 28,
   "metadata": {},
   "outputs": [],
   "source": [
    "# calculate the coefficients at the minimum lambda value\n",
    "glmnet.coef  <- coef(glmnet.Training.CV, s=lambda.glmnet.Training)"
   ]
  },
  {
   "cell_type": "code",
   "execution_count": 29,
   "metadata": {
    "scrolled": false
   },
   "outputs": [],
   "source": [
    "# write out the coefficients\n",
    "write.table(as.matrix(glmnet.coef), file='coefficients.csv', col.names = F, sep=\"\\t\")"
   ]
  },
  {
   "cell_type": "code",
   "execution_count": 33,
   "metadata": {},
   "outputs": [],
   "source": [
    "# predict the age in the test set\n",
    "pred.age.test <- predict(glmnet.Training.CV, newx = t(test.common.imputed), s = \"lambda.min\")\n",
    "pred.age.train <- predict(glmnet.Training.CV, newx = t(train.common.imputed), s = \"lambda.min\")"
   ]
  },
  {
   "cell_type": "code",
   "execution_count": 37,
   "metadata": {},
   "outputs": [
    {
     "name": "stdout",
     "output_type": "stream",
     "text": [
      "       [,1]\n",
      "1 0.9663555\n",
      "       [,1]\n",
      "1 0.9830338\n",
      "       [,1]\n",
      "1 0.9007898\n",
      "       [,1]\n",
      "1 0.9490995\n"
     ]
    }
   ],
   "source": [
    "# R^2 and correlation for training set\n",
    "print(cor(pred.age.train, train.age)^2)\n",
    "print(cor(pred.age.train, train.age))\n",
    "\n",
    "# R^2 and correlation for training set\n",
    "print(cor(pred.age.test, test.age)^2)\n",
    "print(cor(pred.age.test, test.age))"
   ]
  },
  {
   "cell_type": "code",
   "execution_count": 52,
   "metadata": {},
   "outputs": [
    {
     "data": {
      "image/png": "[encoded data removed]",
      "text/plain": [
       "Plot with title “Actual Age vs Predicted Age in Training Set”"
      ]
     },
     "metadata": {},
     "output_type": "display_data"
    }
   ],
   "source": [
    "    # plotting predicted age vs actual age in training set\n",
    "    plot(y=pred.age.train, x=train.age, ylab=\"Predicted Age\", xlab=\"Actual Age\", main=\"Actual Age vs Predicted Age in Training Set\")"
   ]
  },
  {
   "cell_type": "code",
   "execution_count": 53,
   "metadata": {},
   "outputs": [
    {
     "data": {
      "image/png": "[encoded data removed]",
      "text/plain": [
       "Plot with title “Actual Age vs Predicted Age in Test Set”"
      ]
     },
     "metadata": {},
     "output_type": "display_data"
    }
   ],
   "source": [
    "# plotting predicted age vs actual age in test set\n",
    "plot(y=pred.age.test, x=test.age, ylab=\"Predicted Age\", xlab=\"Actual Age\", main=\"Actual Age vs Predicted Age in Test Set\")"
   ]
  },
  {
   "cell_type": "code",
   "execution_count": 46,
   "metadata": {},
   "outputs": [
    {
     "data": {
      "text/html": [
       "46"
      ],
      "text/latex": [
       "46"
      ],
      "text/markdown": [
       "46"
      ],
      "text/plain": [
       "[1] 46"
      ]
     },
     "metadata": {},
     "output_type": "display_data"
    }
   ],
   "source": [
    "# Age accelerated\n",
    "length(which(test.age > pred.age.test))"
   ]
  },
  {
   "cell_type": "code",
   "execution_count": 47,
   "metadata": {},
   "outputs": [
    {
     "data": {
      "text/html": [
       "49"
      ],
      "text/latex": [
       "49"
      ],
      "text/markdown": [
       "49"
      ],
      "text/plain": [
       "[1] 49"
      ]
     },
     "metadata": {},
     "output_type": "display_data"
    }
   ],
   "source": [
    "# Age decelerated\n",
    "length(which(test.age < pred.age.test))"
   ]
  },
  {
   "cell_type": "code",
   "execution_count": null,
   "metadata": {},
   "outputs": [],
   "source": [
    "# Test if age acceleration and deceleration is different between male and female\n",
    "f.acc  <- length(which(test.age > pred.age.test))\n",
    "f.dec  <- length(which(test.age < pred.age.test))\n",
    "\n",
    "chisq.test()"
   ]
  }
 ],
 "metadata": {
  "kernelspec": {
   "display_name": "R",
   "language": "R",
   "name": "ir"
  },
  "language_info": {
   "codemirror_mode": "r",
   "file_extension": ".r",
   "mimetype": "text/x-r-source",
   "name": "R",
   "pygments_lexer": "r",
   "version": "3.4.1"
  }
 },
 "nbformat": 4,
 "nbformat_minor": 2
}
