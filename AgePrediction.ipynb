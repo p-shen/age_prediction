{
 "cells": [
  {
   "cell_type": "code",
   "execution_count": 11,
   "metadata": {},
   "outputs": [
    {
     "name": "stderr",
     "output_type": "stream",
     "text": [
      "── Attaching packages ─────────────────────────────────────── tidyverse 1.2.1 ──\n",
      "✔ ggplot2 2.2.1     ✔ purrr   0.2.4\n",
      "✔ tibble  1.4.2     ✔ dplyr   0.7.4\n",
      "✔ tidyr   0.8.0     ✔ stringr 1.3.0\n",
      "✔ readr   1.1.1     ✔ forcats 0.3.0\n",
      "── Conflicts ────────────────────────────────────────── tidyverse_conflicts() ──\n",
      "✖ dplyr::filter() masks stats::filter()\n",
      "✖ dplyr::lag()    masks stats::lag()\n",
      "Loading required package: Matrix\n",
      "\n",
      "Attaching package: ‘Matrix’\n",
      "\n",
      "The following object is masked from ‘package:tidyr’:\n",
      "\n",
      "    expand\n",
      "\n",
      "Loading required package: foreach\n",
      "\n",
      "Attaching package: ‘foreach’\n",
      "\n",
      "The following objects are masked from ‘package:purrr’:\n",
      "\n",
      "    accumulate, when\n",
      "\n",
      "Loaded glmnet 2.0-13\n",
      "\n"
     ]
    }
   ],
   "source": [
    "library(tidyverse)\n",
    "library(glmnet)"
   ]
  },
  {
   "cell_type": "code",
   "execution_count": 12,
   "metadata": {},
   "outputs": [],
   "source": [
    "load(file=\"data/GSE40279_r2.Rdata\")\n",
    "load(file=\"data/GSE41169_r2.Rdata\")"
   ]
  },
  {
   "cell_type": "code",
   "execution_count": 52,
   "metadata": {},
   "outputs": [],
   "source": [
    "# Age is stored in `characteristics_ch1` for training and `characteristics_ch1.6` for test in the metadata dataframes\n",
    "\n",
    "# parse the strings and extract the age information\n",
    "train.age  <- sapply(as.character(gse40279.meta$characteristics_ch1),\n",
    "                     function(ch) as.numeric(unlist(strsplit(ch, ' '))[3]))\n",
    "test.age  <- sapply(as.character(gse41169.meta$characteristics_ch1.6),\n",
    "                     function(ch) as.numeric(unlist(strsplit(ch, ' '))[2]))\n",
    "\n",
    "# remove names\n",
    "names(train.age)  <- NULL\n",
    "names(test.age)  <- NULL"
   ]
  },
  {
   "cell_type": "code",
   "execution_count": 54,
   "metadata": {},
   "outputs": [],
   "source": [
    "# find common probes\n",
    "train.probes  <- rownames(gse40279.data)\n",
    "test.probes  <- rownames(gse41169.data)\n",
    "common.probes  <- intersect(rownames(gse41169.data), rownames(gse40279.data))\n",
    "\n",
    "# only select the common probes in training and test datasets\n",
    "train.common  <- gse40279.data[common.probes,]\n",
    "test.common  <- gse41169.data[common.probes,]"
   ]
  },
  {
   "cell_type": "code",
   "execution_count": 91,
   "metadata": {},
   "outputs": [
    {
     "data": {
      "text/html": [
       "118271"
      ],
      "text/latex": [
       "118271"
      ],
      "text/markdown": [
       "118271"
      ],
      "text/plain": [
       "[1] 118271"
      ]
     },
     "metadata": {},
     "output_type": "display_data"
    }
   ],
   "source": [
    "# number of common probes\n",
    "length(common.probes)"
   ]
  },
  {
   "cell_type": "code",
   "execution_count": 49,
   "metadata": {},
   "outputs": [
    {
     "data": {
      "text/plain": [
       "   Min. 1st Qu.  Median    Mean 3rd Qu.    Max. \n",
       "  19.00   54.00   65.00   64.04   75.00  101.00 "
      ]
     },
     "metadata": {},
     "output_type": "display_data"
    },
    {
     "data": {
      "text/html": [
       "64.0350609756098"
      ],
      "text/latex": [
       "64.0350609756098"
      ],
      "text/markdown": [
       "64.0350609756098"
      ],
      "text/plain": [
       "[1] 64.03506"
      ]
     },
     "metadata": {},
     "output_type": "display_data"
    },
    {
     "data": {
      "text/html": [
       "14.7366808073477"
      ],
      "text/latex": [
       "14.7366808073477"
      ],
      "text/markdown": [
       "14.7366808073477"
      ],
      "text/plain": [
       "[1] 14.73668"
      ]
     },
     "metadata": {},
     "output_type": "display_data"
    },
    {
     "data": {
      "text/html": [
       "656"
      ],
      "text/latex": [
       "656"
      ],
      "text/markdown": [
       "656"
      ],
      "text/plain": [
       "[1] 656"
      ]
     },
     "metadata": {},
     "output_type": "display_data"
    }
   ],
   "source": [
    "# summarize the ages in the training dataset\n",
    "summary(train.age)\n",
    "mean(train.age)\n",
    "sd(train.age)\n",
    "length(train.age)"
   ]
  },
  {
   "cell_type": "code",
   "execution_count": 50,
   "metadata": {},
   "outputs": [
    {
     "data": {
      "text/plain": [
       "   Min. 1st Qu.  Median    Mean 3rd Qu.    Max. \n",
       "  18.00   24.50   29.00   31.57   36.00   65.00 "
      ]
     },
     "metadata": {},
     "output_type": "display_data"
    },
    {
     "data": {
      "text/html": [
       "31.5684210526316"
      ],
      "text/latex": [
       "31.5684210526316"
      ],
      "text/markdown": [
       "31.5684210526316"
      ],
      "text/plain": [
       "[1] 31.56842"
      ]
     },
     "metadata": {},
     "output_type": "display_data"
    },
    {
     "data": {
      "text/html": [
       "10.282863902318"
      ],
      "text/latex": [
       "10.282863902318"
      ],
      "text/markdown": [
       "10.282863902318"
      ],
      "text/plain": [
       "[1] 10.28286"
      ]
     },
     "metadata": {},
     "output_type": "display_data"
    },
    {
     "data": {
      "text/html": [
       "95"
      ],
      "text/latex": [
       "95"
      ],
      "text/markdown": [
       "95"
      ],
      "text/plain": [
       "[1] 95"
      ]
     },
     "metadata": {},
     "output_type": "display_data"
    }
   ],
   "source": [
    "# summarize the ages in the test dataset\n",
    "summary(test.age)\n",
    "mean(test.age)\n",
    "sd(test.age)\n",
    "length(test.age)"
   ]
  },
  {
   "cell_type": "code",
   "execution_count": 72,
   "metadata": {},
   "outputs": [],
   "source": [
    "# inpute missing values based on means\n",
    "imputeData  <- function(probeData) {\n",
    "    probeData[is.na(probeData)]  <- mean(probeData, na.rm=T)\n",
    "    return(probeData)\n",
    "}"
   ]
  },
  {
   "cell_type": "code",
   "execution_count": 90,
   "metadata": {},
   "outputs": [],
   "source": [
    "train.common.imputed  <- t(apply(train.common, 1, imputeData))\n",
    "test.common.imputed  <- t(apply(test.common, 1, imputeData))"
   ]
  },
  {
   "cell_type": "code",
   "execution_count": 315,
   "metadata": {},
   "outputs": [
    {
     "name": "stdout",
     "output_type": "stream",
     "text": [
      "[1] 1.414358\n"
     ]
    }
   ],
   "source": [
    "# Train glmnet for prediction\n",
    "set.seed(5)\n",
    "glmnet.Training.CV  <-  cv.glmnet(t(train.common.imputed), train.age, nfolds=10,alpha=0.5,family=\"gaussian\")\n",
    "\n",
    "# The definition of the lambda parameter:\n",
    "lambda.glmnet.Training  <-  glmnet.Training.CV$lambda.1se \n",
    "print(lambda.glmnet.Training)"
   ]
  },
  {
   "cell_type": "code",
   "execution_count": 316,
   "metadata": {},
   "outputs": [],
   "source": [
    "# calculate the coefficients at the minimum lambda value\n",
    "glmnet.coef  <- coef(glmnet.Training.CV, s=lambda.glmnet.Training)"
   ]
  },
  {
   "cell_type": "code",
   "execution_count": 317,
   "metadata": {
    "scrolled": false
   },
   "outputs": [],
   "source": [
    "# write out the coefficients\n",
    "write.table(as.matrix(glmnet.coef), file='coefficients.csv', col.names = F, sep=\"\\t\")"
   ]
  },
  {
   "cell_type": "code",
   "execution_count": 318,
   "metadata": {},
   "outputs": [],
   "source": [
    "# predict the age in the test set\n",
    "pred.age.test <- predict(glmnet.Training.CV, newx = t(test.common.imputed), s = \"lambda.1se\")\n",
    "pred.age.train <- predict(glmnet.Training.CV, newx = t(train.common.imputed), s = \"lambda.1se\")"
   ]
  },
  {
   "cell_type": "code",
   "execution_count": 319,
   "metadata": {},
   "outputs": [
    {
     "name": "stdout",
     "output_type": "stream",
     "text": [
      "       [,1]\n",
      "1 0.9192373\n",
      "       [,1]\n",
      "1 0.9587687\n",
      "       [,1]\n",
      "1 0.9009715\n",
      "       [,1]\n",
      "1 0.9491952\n"
     ]
    }
   ],
   "source": [
    "# R^2 and correlation for training set\n",
    "print(cor(pred.age.train, train.age)^2)\n",
    "print(cor(pred.age.train, train.age))\n",
    "\n",
    "# R^2 and correlation for training set\n",
    "print(cor(pred.age.test, test.age)^2)\n",
    "print(cor(pred.age.test, test.age))"
   ]
  },
  {
   "cell_type": "code",
   "execution_count": 52,
   "metadata": {},
   "outputs": [
    {
     "data": {
      "image/png": "[encoded data removed]",
      "text/plain": [
       "Plot with title “Actual Age vs Predicted Age in Training Set”"
      ]
     },
     "metadata": {},
     "output_type": "display_data"
    }
   ],
   "source": [
    "# plotting predicted age vs actual age in training set\n",
    "plot(y=pred.age.train, x=train.age, ylab=\"Predicted Age\", xlab=\"Actual Age\", main=\"Actual Age vs Predicted Age in Training Set\")"
   ]
  },
  {
   "cell_type": "code",
   "execution_count": 53,
   "metadata": {},
   "outputs": [
    {
     "data": {
      "image/png": "[encoded data removed]",
      "text/plain": [
       "Plot with title “Actual Age vs Predicted Age in Test Set”"
      ]
     },
     "metadata": {},
     "output_type": "display_data"
    }
   ],
   "source": [
    "# plotting predicted age vs actual age in test set\n",
    "plot(y=pred.age.test, x=test.age, ylab=\"Predicted Age\", xlab=\"Actual Age\", main=\"Actual Age vs Predicted Age in Test Set\")"
   ]
  },
  {
   "cell_type": "code",
   "execution_count": 320,
   "metadata": {},
   "outputs": [
    {
     "data": {
      "text/html": [
       "30"
      ],
      "text/latex": [
       "30"
      ],
      "text/markdown": [
       "30"
      ],
      "text/plain": [
       "[1] 30"
      ]
     },
     "metadata": {},
     "output_type": "display_data"
    }
   ],
   "source": [
    "# Age accelerated\n",
    "length(which(test.age > pred.age.test))"
   ]
  },
  {
   "cell_type": "code",
   "execution_count": 321,
   "metadata": {},
   "outputs": [
    {
     "data": {
      "text/html": [
       "65"
      ],
      "text/latex": [
       "65"
      ],
      "text/markdown": [
       "65"
      ],
      "text/plain": [
       "[1] 65"
      ]
     },
     "metadata": {},
     "output_type": "display_data"
    }
   ],
   "source": [
    "# Age decelerated\n",
    "length(which(test.age < pred.age.test))"
   ]
  },
  {
   "cell_type": "code",
   "execution_count": 195,
   "metadata": {},
   "outputs": [],
   "source": [
    "save.image()"
   ]
  },
  {
   "cell_type": "code",
   "execution_count": 322,
   "metadata": {},
   "outputs": [
    {
     "data": {
      "text/plain": [
       "\n",
       "\tPearson's Chi-squared test\n",
       "\n",
       "data:  matrix(c(train.females.acc, train.males.acc, train.females.dec,     train.males.dec), ncol = 2)\n",
       "X-squared = 1.0866, df = 1, p-value = 0.2972\n"
      ]
     },
     "metadata": {},
     "output_type": "display_data"
    },
    {
     "data": {
      "text/plain": [
       "\n",
       "\tPearson's Chi-squared test\n",
       "\n",
       "data:  matrix(c(test.females.acc, test.males.acc, test.females.dec,     test.males.dec), ncol = 2)\n",
       "X-squared = 0.1662, df = 1, p-value = 0.6835\n"
      ]
     },
     "metadata": {},
     "output_type": "display_data"
    }
   ],
   "source": [
    "# test if age acceleration and deceleration is different\n",
    "# between genders in the training set\n",
    "train.gender  <- gse40279.meta$characteristics_ch1.3\n",
    "train.females  <- which(train.gender==\"gender: F\")\n",
    "train.males  <- which(train.gender==\"gender: M\")\n",
    "train.females.acc  <- length(which(train.age[train.females] > pred.age.train[train.females]))\n",
    "train.females.dec  <- length(which(train.age[train.females] < pred.age.train[train.females]))\n",
    "train.males.acc  <- length(which(train.age[train.males] > pred.age.train[train.males]))\n",
    "train.males.dec  <- length(which(train.age[train.males] < pred.age.train[train.males]))\n",
    "\n",
    "chisq.test(\n",
    "    matrix(\n",
    "        c(train.females.acc, train.males.acc, \n",
    "          train.females.dec, train.males.dec), \n",
    "        ncol=2), correct=F)\n",
    "\n",
    "# again test for the test set\n",
    "test.gender  <- gse41169.meta$characteristics_ch1\n",
    "test.females  <- which(test.gender==\"gender: Female\")\n",
    "test.males  <- which(test.gender==\"gender: Male\")\n",
    "test.females.acc  <- length(which(test.age[test.females] > pred.age.test[test.females]))\n",
    "test.females.dec  <- length(which(test.age[test.females] < pred.age.test[test.females]))\n",
    "test.males.acc  <- length(which(test.age[test.males] > pred.age.test[test.males]))\n",
    "test.males.dec  <- length(which(test.age[test.males] < pred.age.test[test.males]))\n",
    "\n",
    "chisq.test(\n",
    "    matrix(\n",
    "        c(test.females.acc, test.males.acc, \n",
    "          test.females.dec, test.males.dec), \n",
    "        ncol=2), correct=F)"
   ]
  },
  {
   "cell_type": "code",
   "execution_count": 329,
   "metadata": {},
   "outputs": [],
   "source": [
    "glmnet.coef.sorted  <- as.matrix(glmnet.coef)\n",
    "glmnet.coef.sorted  <- glmnet.coef.sorted[order(-abs(glmnet.coef.sorted)), , drop=F]\n",
    "#filter out 0\n",
    "glmnet.coef.sorted  <- glmnet.coef.sorted[glmnet.coef.sorted != 0, , drop=F]\n",
    "\n",
    "#convert to dataframe\n",
    "glmnet.coef.sorted  <- as.data.frame(glmnet.coef.sorted)"
   ]
  },
  {
   "cell_type": "code",
   "execution_count": 41,
   "metadata": {},
   "outputs": [
    {
     "name": "stderr",
     "output_type": "stream",
     "text": [
      "Bioconductor version 3.6 (BiocInstaller 1.28.0), ?biocLite for help\n",
      "BioC_mirror: https://bioconductor.org\n",
      "Using Bioconductor 3.6 (BiocInstaller 1.28.0), R 3.4.1 (2017-06-30).\n",
      "Installing package(s) ‘IlluminaHumanMethylation450kanno.ilmn12.hg19’\n",
      "also installing the dependencies ‘registry’, ‘rngtools’, ‘pkgmaker’, ‘xtable’, ‘locfit’, ‘doRNG’, ‘multtest’, ‘base64’, ‘annotate’, ‘bumphunter’, ‘beanplot’, ‘nor1mix’, ‘siggenes’, ‘limma’, ‘preprocessCore’, ‘illuminaio’, ‘mclust’, ‘genefilter’, ‘reshape’, ‘quadprog’, ‘data.table’, ‘GEOquery’, ‘minfi’\n",
      "\n",
      "Warning message in install.packages(pkgs = doing, lib = lib, ...):\n",
      "“installation of package ‘preprocessCore’ had non-zero exit status”Warning message in install.packages(pkgs = doing, lib = lib, ...):\n",
      "“installation of package ‘minfi’ had non-zero exit status”Warning message in install.packages(pkgs = doing, lib = lib, ...):\n",
      "“installation of package ‘IlluminaHumanMethylation450kanno.ilmn12.hg19’ had non-zero exit status”installation path not writeable, unable to update packages: boot, MASS, Matrix,\n",
      "  mgcv, nlme, rpart\n"
     ]
    }
   ],
   "source": [
    "source(\"https://bioconductor.org/biocLite.R\")\n",
    "biocLite(\"IlluminaHumanMethylation450kanno.ilmn12.hg19\")"
   ]
  },
  {
   "cell_type": "code",
   "execution_count": 330,
   "metadata": {},
   "outputs": [],
   "source": [
    "library(FDb.InfiniumMethylation.hg19)"
   ]
  },
  {
   "cell_type": "code",
   "execution_count": 331,
   "metadata": {},
   "outputs": [
    {
     "name": "stderr",
     "output_type": "stream",
     "text": [
      "Fetching coordinates for hg19...\n"
     ]
    },
    {
     "ename": "ERROR",
     "evalue": "Error: subscript contains invalid names\n",
     "output_type": "error",
     "traceback": [
      "Error: subscript contains invalid names\nTraceback:\n",
      "1. hm450[probeset]",
      "2. hm450[probeset]",
      "3. extractROWS(x, i)",
      "4. extractROWS(x, i)",
      "5. normalizeSingleBracketSubscript(i, x)",
      "6. NSBS(i, x, exact = exact, strict.upper.bound = !allow.append, \n .     allow.NAs = allow.NAs)",
      "7. NSBS(i, x, exact = exact, strict.upper.bound = !allow.append, \n .     allow.NAs = allow.NAs)",
      "8. .subscript_error(\"subscript contains invalid \", what)",
      "9. stop(wmsg(...), call. = FALSE)"
     ]
    }
   ],
   "source": [
    "hm450 <- get450k()\n",
    "probeset  <- rownames(glmnet.coef.sorted)[2:length(rownames(glmnet.coef.sorted))]\n",
    "probes <- hm450[probeset]\n",
    "\n",
    "genes  <- getNearestTSS(probes)$nearestGeneSymbol"
   ]
  },
  {
   "cell_type": "code",
   "execution_count": 294,
   "metadata": {},
   "outputs": [
    {
     "name": "stderr",
     "output_type": "stream",
     "text": [
      "Warning message in write.csv(genes, file = \"genes.csv\", sep = \"\\t\"):\n",
      "“attempt to set 'sep' ignored”"
     ]
    }
   ],
   "source": [
    "write.csv(genes, file='genes.csv', sep=\"\\t\")"
   ]
  },
  {
   "cell_type": "code",
   "execution_count": 326,
   "metadata": {},
   "outputs": [
    {
     "ename": "ERROR",
     "evalue": "Error in train.common.imputed[probeset, ]: subscript out of bounds\n",
     "output_type": "error",
     "traceback": [
      "Error in train.common.imputed[probeset, ]: subscript out of bounds\nTraceback:\n",
      "1. cor(train.common.imputed[probeset, ])"
     ]
    }
   ],
   "source": [
    "cor.matrix  <- cor(train.common.imputed[probeset,])\n",
    "pca  <- prcomp(cor.matrix)"
   ]
  },
  {
   "cell_type": "code",
   "execution_count": 225,
   "metadata": {},
   "outputs": [
    {
     "data": {
      "text/html": [
       "<strong>PC4:</strong> 4"
      ],
      "text/latex": [
       "\\textbf{PC4:} 4"
      ],
      "text/markdown": [
       "**PC4:** 4"
      ],
      "text/plain": [
       "PC4 \n",
       "  4 "
      ]
     },
     "metadata": {},
     "output_type": "display_data"
    }
   ],
   "source": [
    "pca.summary  <- summary(pca)\n",
    "ind <- which(pca.summary$importance[\"Cumulative Proportion\",] > 0.9)\n",
    "ind[1]"
   ]
  },
  {
   "cell_type": "code",
   "execution_count": 229,
   "metadata": {},
   "outputs": [
    {
     "data": {
      "image/png": "[encoded data removed]",
      "text/plain": [
       "Plot with title “Cluster Dendrogram”"
      ]
     },
     "metadata": {},
     "output_type": "display_data"
    }
   ],
   "source": [
    "dist_mat <- dist(train.common.imputed[probeset,])\n",
    "clustering <- hclust(dist_mat, method = \"complete\")\n",
    "plot(clustering, labels = F, hang=-1)"
   ]
  },
  {
   "cell_type": "code",
   "execution_count": 280,
   "metadata": {},
   "outputs": [],
   "source": [
    "cut  <- cutree(clustering, k=30)"
   ]
  },
  {
   "cell_type": "code",
   "execution_count": 281,
   "metadata": {},
   "outputs": [],
   "source": [
    "probeset.top  <- cut[which(cut == cut[probeset[1:3]])]"
   ]
  },
  {
   "cell_type": "code",
   "execution_count": 288,
   "metadata": {},
   "outputs": [],
   "source": [
    "probes <- hm450[names(probeset.top)]\n",
    "genes.top  <- getNearestTSS(probes)$nearestGeneSymbol"
   ]
  },
  {
   "cell_type": "code",
   "execution_count": 291,
   "metadata": {},
   "outputs": [
    {
     "name": "stderr",
     "output_type": "stream",
     "text": [
      "Warning message in write.csv(genes.top, file = \"top_genes.csv\", sep = \"\\t\"):\n",
      "“attempt to set 'sep' ignored”"
     ]
    }
   ],
   "source": [
    "write.csv(genes.top, file='top_genes.csv', sep=\"\\t\")"
   ]
  },
  {
   "cell_type": "code",
   "execution_count": 332,
   "metadata": {},
   "outputs": [
    {
     "name": "stdout",
     "output_type": "stream",
     "text": [
      "Formal class 'GRanges' [package \"GenomicRanges\"] with 6 slots\n",
      "  ..@ seqnames       :Formal class 'Rle' [package \"S4Vectors\"] with 4 slots\n",
      "  .. .. ..@ values         : Factor w/ 24 levels \"chr1\",\"chr2\",..: 2 1 3 1 4 1 2 1 2 1 ...\n",
      "  .. .. ..@ lengths        : int [1:188] 2 1 1 2 1 1 2 3 1 2 ...\n",
      "  .. .. ..@ elementMetadata: NULL\n",
      "  .. .. ..@ metadata       : list()\n",
      "  ..@ ranges         :Formal class 'IRanges' [package \"IRanges\"] with 6 slots\n",
      "  .. .. ..@ start          : int [1:267] 48668603 106015739 43424700 53080440 3431414 6190318 147558239 92952461 39187539 219827930 ...\n",
      "  .. .. ..@ width          : int [1:267] 2 2 2 2 2 2 2 2 2 2 ...\n",
      "  .. .. ..@ NAMES          : chr [1:267] \"cg24516367\" \"cg06639320\" \"cg22176566\" \"cg03607117\" ...\n",
      "  .. .. ..@ elementType    : chr \"integer\"\n",
      "  .. .. ..@ elementMetadata: NULL\n",
      "  .. .. ..@ metadata       : list()\n",
      "  ..@ strand         :Formal class 'Rle' [package \"S4Vectors\"] with 4 slots\n",
      "  .. .. ..@ values         : Factor w/ 3 levels \"+\",\"-\",\"*\": 3\n",
      "  .. .. ..@ lengths        : int 267\n",
      "  .. .. ..@ elementMetadata: NULL\n",
      "  .. .. ..@ metadata       : list()\n",
      "  ..@ elementMetadata:Formal class 'DataFrame' [package \"S4Vectors\"] with 6 slots\n",
      "  .. .. ..@ rownames       : NULL\n",
      "  .. .. ..@ nrows          : int 267\n",
      "  .. .. ..@ listData       :List of 10\n",
      "  .. .. .. ..$ addressA   : chr [1:267] \"15732347\" \"13732383\" \"20679444\" \"70676435\" ...\n",
      "  .. .. .. ..$ addressB   : chr [1:267] \"\" \"\" \"19804398\" \"\" ...\n",
      "  .. .. .. ..$ channel    :Formal class 'Rle' [package \"S4Vectors\"] with 4 slots\n",
      "  .. .. .. .. .. ..@ values         : Factor w/ 3 levels \"Both\",\"Grn\",\"Red\": 1 3 1 3 2 3 2 1 3 1 ...\n",
      "  .. .. .. .. .. ..@ lengths        : int [1:121] 2 1 1 2 1 1 1 2 1 1 ...\n",
      "  .. .. .. .. .. ..@ elementMetadata: NULL\n",
      "  .. .. .. .. .. ..@ metadata       : list()\n",
      "  .. .. .. ..$ platform   :Formal class 'Rle' [package \"S4Vectors\"] with 4 slots\n",
      "  .. .. .. .. .. ..@ values         : Factor w/ 2 levels \"BOTH\",\"HM450\": 2 1 2 1 2 1 2 1 2 1 ...\n",
      "  .. .. .. .. .. ..@ lengths        : int [1:37] 22 1 3 1 1 1 11 1 15 1 ...\n",
      "  .. .. .. .. .. ..@ elementMetadata: NULL\n",
      "  .. .. .. .. .. ..@ metadata       : list()\n",
      "  .. .. .. ..$ percentGC  : num [1:267] 0.48 0.58 0.72 0.72 0.66 0.58 0.7 0.56 0.66 0.66 ...\n",
      "  .. .. .. ..$ sourceSeq  :Formal class 'DNAStringSet' [package \"Biostrings\"] with 5 slots\n",
      "  .. .. .. .. .. ..@ pool           :Formal class 'SharedRaw_Pool' [package \"XVector\"] with 2 slots\n",
      "  .. .. .. .. .. .. .. ..@ xp_list                    :List of 1\n",
      "  .. .. .. .. .. .. .. .. ..$ :<externalptr> \n",
      "  .. .. .. .. .. .. .. ..@ .link_to_cached_object_list:List of 1\n",
      "  .. .. .. .. .. .. .. .. ..$ :<environment: 0x886eb798> \n",
      "  .. .. .. .. .. ..@ ranges         :Formal class 'GroupedIRanges' [package \"XVector\"] with 7 slots\n",
      "  .. .. .. .. .. .. .. ..@ group          : int [1:267] 1 1 1 1 1 1 1 1 1 1 ...\n",
      "  .. .. .. .. .. .. .. ..@ start          : int [1:267] 21512651 6474051 19654051 3649151 19426101 3982101 2702751 23923851 19638651 13663901 ...\n",
      "  .. .. .. .. .. .. .. ..@ width          : int [1:267] 50 50 50 50 50 50 50 50 50 50 ...\n",
      "  .. .. .. .. .. .. .. ..@ NAMES          : NULL\n",
      "  .. .. .. .. .. .. .. ..@ elementType    : chr \"integer\"\n",
      "  .. .. .. .. .. .. .. ..@ elementMetadata: NULL\n",
      "  .. .. .. .. .. .. .. ..@ metadata       : list()\n",
      "  .. .. .. .. .. ..@ elementType    : chr \"DNAString\"\n",
      "  .. .. .. .. .. ..@ elementMetadata: NULL\n",
      "  .. .. .. .. .. ..@ metadata       : list()\n",
      "  .. .. .. ..$ probeType  :Formal class 'Rle' [package \"S4Vectors\"] with 4 slots\n",
      "  .. .. .. .. .. ..@ values         : Factor w/ 3 levels \"cg\",\"ch\",\"rs\": 1\n",
      "  .. .. .. .. .. ..@ lengths        : int 267\n",
      "  .. .. .. .. .. ..@ elementMetadata: NULL\n",
      "  .. .. .. .. .. ..@ metadata       : list()\n",
      "  .. .. .. ..$ probeStart : chr [1:267] \"48668603\" \"106015691\" \"43424700\" \"53080440\" ...\n",
      "  .. .. .. ..$ probeEnd   : chr [1:267] \"48668652\" \"106015740\" \"43424749\" \"53080489\" ...\n",
      "  .. .. .. ..$ probeTarget: num [1:267] 4.87e+07 1.06e+08 4.34e+07 5.31e+07 3.43e+06 ...\n",
      "  .. .. ..@ elementType    : chr \"ANY\"\n",
      "  .. .. ..@ elementMetadata: NULL\n",
      "  .. .. ..@ metadata       : list()\n",
      "  ..@ seqinfo        :Formal class 'Seqinfo' [package \"GenomeInfoDb\"] with 4 slots\n",
      "  .. .. ..@ seqnames   : chr [1:24] \"chr1\" \"chr2\" \"chr3\" \"chr4\" ...\n",
      "  .. .. ..@ seqlengths : int [1:24] 249250621 243199373 198022430 191154276 180915260 171115067 159138663 146364022 141213431 135534747 ...\n",
      "  .. .. ..@ is_circular: logi [1:24] FALSE FALSE FALSE FALSE FALSE FALSE ...\n",
      "  .. .. ..@ genome     : chr [1:24] \"hg19\" \"hg19\" \"hg19\" \"hg19\" ...\n",
      "  ..@ metadata       :List of 1\n",
      "  .. ..$ :Formal class 'DataFrame' [package \"S4Vectors\"] with 6 slots\n",
      "  .. .. .. ..@ rownames       : NULL\n",
      "  .. .. .. ..@ nrows          : int 13\n",
      "  .. .. .. ..@ listData       :List of 2\n",
      "  .. .. .. .. ..$ name : chr [1:13] \"Db type\" \"Supporting package\" \"data_nrow\" \"Db created by\" ...\n",
      "  .. .. .. .. ..$ value: chr [1:13] \"FeatureDb\" \"GenomicFeatures\" \"487173\" \"GenomicFeatures package from Bioconductor\" ...\n",
      "  .. .. .. ..@ elementType    : chr \"ANY\"\n",
      "  .. .. .. ..@ elementMetadata: NULL\n",
      "  .. .. .. ..@ metadata       : list()\n"
     ]
    }
   ],
   "source": [
    "str(probes)"
   ]
  },
  {
   "cell_type": "code",
   "execution_count": 333,
   "metadata": {},
   "outputs": [],
   "source": [
    "save.image()"
   ]
  },
  {
   "cell_type": "code",
   "execution_count": null,
   "metadata": {},
   "outputs": [],
   "source": []
  }
 ],
 "metadata": {
  "kernelspec": {
   "display_name": "R",
   "language": "R",
   "name": "ir"
  },
  "language_info": {
   "codemirror_mode": "r",
   "file_extension": ".r",
   "mimetype": "text/x-r-source",
   "name": "R",
   "pygments_lexer": "r",
   "version": "3.4.1"
  }
 },
 "nbformat": 4,
 "nbformat_minor": 2
}
